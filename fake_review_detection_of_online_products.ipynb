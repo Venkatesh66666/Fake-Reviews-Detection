{
  "cells": [
    {
      "cell_type": "markdown",
      "metadata": {
        "id": "view-in-github",
        "colab_type": "text"
      },
      "source": [
        "<a href=\"https://colab.research.google.com/github/Venkatesh66666/Fake-Reviews-Detection/blob/main/fake_review_detection_of_online_products.ipynb\" target=\"_parent\"><img src=\"https://colab.research.google.com/assets/colab-badge.svg\" alt=\"Open In Colab\"/></a>"
      ]
    },
    {
      "cell_type": "markdown",
      "metadata": {
        "id": "4DKFWfCPSy3V"
      },
      "source": [
        "---\n",
        "### **Mount Google Drive for access**\n",
        "---"
      ]
    },
    {
      "cell_type": "code",
      "execution_count": null,
      "metadata": {
        "colab": {
          "base_uri": "https://localhost:8080/"
        },
        "id": "yTUDD88UbgTz",
        "outputId": "a20ef3ba-44ec-4fad-cd42-8f81c20ad57b"
      },
      "outputs": [
        {
          "name": "stdout",
          "output_type": "stream",
          "text": [
            "Drive already mounted at /content/drive; to attempt to forcibly remount, call drive.mount(\"/content/drive\", force_remount=True).\n"
          ]
        }
      ],
      "source": [
        "from google.colab import drive\n",
        "drive.mount('/content/drive')"
      ]
    },
    {
      "cell_type": "markdown",
      "metadata": {
        "id": "kVEGAwchTMtv"
      },
      "source": [
        "---\n",
        "### **Install virtualenv and activate the environment**\n",
        "---"
      ]
    },
    {
      "cell_type": "code",
      "execution_count": null,
      "metadata": {
        "colab": {
          "base_uri": "https://localhost:8080/"
        },
        "id": "MqW0XQaubsTE",
        "outputId": "55f0d814-b703-44f5-b76d-9dbccf410b23"
      },
      "outputs": [
        {
          "name": "stdout",
          "output_type": "stream",
          "text": [
            "Requirement already satisfied: virtualenv in /usr/local/lib/python3.10/dist-packages (20.24.2)\n",
            "Requirement already satisfied: distlib<1,>=0.3.7 in /usr/local/lib/python3.10/dist-packages (from virtualenv) (0.3.7)\n",
            "Requirement already satisfied: filelock<4,>=3.12.2 in /usr/local/lib/python3.10/dist-packages (from virtualenv) (3.12.2)\n",
            "Requirement already satisfied: platformdirs<4,>=3.9.1 in /usr/local/lib/python3.10/dist-packages (from virtualenv) (3.9.1)\n",
            "created virtual environment CPython3.10.12.final.0-64 in 583ms\n",
            "  creator CPython3Posix(dest=/content/venv, clear=False, no_vcs_ignore=False, global=False)\n",
            "  seeder FromAppData(download=False, pip=bundle, setuptools=bundle, wheel=bundle, via=copy, app_data_dir=/root/.local/share/virtualenv)\n",
            "    added seed packages: pip==23.2.1, setuptools==68.0.0, wheel==0.41.0\n",
            "  activators BashActivator,CShellActivator,FishActivator,NushellActivator,PowerShellActivator,PythonActivator\n"
          ]
        }
      ],
      "source": [
        "!pip install virtualenv\n",
        "!virtualenv venv\n",
        "!. venv/bin/activate"
      ]
    },
    {
      "cell_type": "markdown",
      "metadata": {
        "id": "LncuhkUgTl0h"
      },
      "source": [
        "---\n",
        "### **Import Required Libraries**\n",
        "---"
      ]
    },
    {
      "cell_type": "code",
      "execution_count": null,
      "metadata": {
        "colab": {
          "background_save": true
        },
        "id": "OrwY0_A1bsUS"
      },
      "outputs": [],
      "source": [
        "import datetime\n",
        "import math\n",
        "import re\n",
        "import time"
      ]
    },
    {
      "cell_type": "code",
      "execution_count": null,
      "metadata": {
        "colab": {
          "background_save": true
        },
        "id": "Ehjy2xf1uhsq"
      },
      "outputs": [],
      "source": [
        "!pip install click>=8.0\n",
        "!pip install cycler>=0.11.0\n",
        "!pip install Flask>=2.2.5"
      ]
    },
    {
      "cell_type": "code",
      "execution_count": null,
      "metadata": {
        "colab": {
          "base_uri": "https://localhost:8080/"
        },
        "id": "lbNR9_9bdMU1",
        "outputId": "4cba643d-912f-4d03-e127-4204e93f51fc"
      },
      "outputs": [
        {
          "name": "stdout",
          "output_type": "stream",
          "text": [
            "Requirement already satisfied: click==7.1.2 in /usr/local/lib/python3.10/dist-packages (7.1.2)\n",
            "Requirement already satisfied: cycler==0.10.0 in /usr/local/lib/python3.10/dist-packages (0.10.0)\n",
            "Requirement already satisfied: six in /usr/local/lib/python3.10/dist-packages (from cycler==0.10.0) (1.16.0)\n",
            "Requirement already satisfied: Flask==1.1.2 in /usr/local/lib/python3.10/dist-packages (1.1.2)\n",
            "Requirement already satisfied: Werkzeug>=0.15 in /usr/local/lib/python3.10/dist-packages (from Flask==1.1.2) (2.3.6)\n",
            "Requirement already satisfied: Jinja2>=2.10.1 in /usr/local/lib/python3.10/dist-packages (from Flask==1.1.2) (3.1.2)\n",
            "Requirement already satisfied: itsdangerous>=0.24 in /usr/local/lib/python3.10/dist-packages (from Flask==1.1.2) (2.1.2)\n",
            "Requirement already satisfied: click>=5.1 in /usr/local/lib/python3.10/dist-packages (from Flask==1.1.2) (7.1.2)\n",
            "Requirement already satisfied: MarkupSafe>=2.0 in /usr/local/lib/python3.10/dist-packages (from Jinja2>=2.10.1->Flask==1.1.2) (2.1.3)\n"
          ]
        }
      ],
      "source": [
        "import sys\n",
        "!{sys.executable} -m pip install click==7.1.2\n",
        "!{sys.executable} -m pip install cycler==0.10.0\n",
        "!{sys.executable} -m pip install Flask==1.1.2\n"
      ]
    },
    {
      "cell_type": "code",
      "execution_count": null,
      "metadata": {
        "id": "Ec0EJAt8dMSh"
      },
      "outputs": [],
      "source": [
        "import numpy\n",
        "import pandas\n",
        "import matplotlib.pyplot as plt\n",
        "import sklearn\n",
        "import nltk\n",
        "import tqdm"
      ]
    },
    {
      "cell_type": "code",
      "execution_count": null,
      "metadata": {
        "id": "IrryFEhwdKrz"
      },
      "outputs": [],
      "source": [
        "import numpy as np\n",
        "import pandas as pd\n",
        "import matplotlib.pyplot as plt\n",
        "import sklearn as skl\n",
        "import nltk\n",
        "import tqdm"
      ]
    },
    {
      "cell_type": "code",
      "execution_count": null,
      "metadata": {
        "id": "kZQw8hIpdabp"
      },
      "outputs": [],
      "source": [
        "from datetime import datetime\n",
        "from math import sqrt\n",
        "import numpy as np\n",
        "from sklearn.model_selection import train_test_split\n",
        "import nltk"
      ]
    },
    {
      "cell_type": "code",
      "execution_count": null,
      "metadata": {
        "colab": {
          "base_uri": "https://localhost:8080/"
        },
        "id": "qmUKIGHLbsZS",
        "outputId": "8620e8a5-2a57-4410-869a-bb808a1f3ba3"
      },
      "outputs": [
        {
          "name": "stderr",
          "output_type": "stream",
          "text": [
            "usage: ipykernel_launcher.py [-h] [--force-retrain FORCE_RETRAIN]\n",
            "                             [--debug DEBUG]\n",
            "ipykernel_launcher.py: error: unrecognized arguments: -f /root/.local/share/jupyter/runtime/kernel-885375e6-da16-4f81-8879-6628ae0437ac.json\n"
          ]
        },
        {
          "name": "stdout",
          "output_type": "stream",
          "text": [
            "Done.\n"
          ]
        }
      ],
      "source": [
        "import sys\n",
        "\n",
        "sys.path.append('/content/drive/MyDrive/Fake-Reviews-Detection-main')\n",
        "\n",
        "from progressBar import printProgressBar\n",
        "\n",
        "import os\n",
        "import pandas as pd\n",
        "import numpy as np\n",
        "import math\n",
        "import pickle\n",
        "import codecs\n",
        "\n",
        "import argparse\n",
        "import shutil\n",
        "\n",
        "#Following code is for debugging\n",
        "\n",
        "try :\n",
        "  parser = argparse.ArgumentParser()\n",
        "  parser.add_argument('--force-retrain', help=\"Set value to 1 if you wish to retrain the models.\")\n",
        "  parser.add_argument('--debug', help=\"Debug.\")\n",
        "  args = parser.parse_args()\n",
        "  force_retrain = args.force_retrain\n",
        "  debug = args.debug\n",
        "\n",
        "except :\n",
        "  force_retrain = 1\n",
        "  debug = None\n",
        "\n",
        "try :\n",
        "    shutil.unpack_archive('/content/drive/MyDrive/Fake-Reviews-Detection-main/models.zip', \"models\", \"zip\")\n",
        "\n",
        "except :\n",
        "    pass\n",
        "\n",
        "print (\"Done.\")"
      ]
    },
    {
      "cell_type": "markdown",
      "metadata": {
        "id": "Mn2iJNbTUboz"
      },
      "source": [
        "---\n",
        "#### **Read Dataset**\n",
        "---\n",
        "#### **Dataset Download Link : https://www.kaggle.com/lievgarcia/amazon-reviews**"
      ]
    },
    {
      "cell_type": "code",
      "execution_count": null,
      "metadata": {
        "colab": {
          "base_uri": "https://localhost:8080/"
        },
        "id": "-VZgFfYEbsdO",
        "outputId": "63a2b6d6-e091-4f29-948a-8e961e319277"
      },
      "outputs": [
        {
          "name": "stdout",
          "output_type": "stream",
          "text": [
            "Done.\n"
          ]
        }
      ],
      "source": [
        "with codecs.open('/content/drive/MyDrive/Fake-Reviews-Detection-main/amazon_dataset_1.csv', \"r\",encoding='utf-8', errors='ignore') as file_dat:\n",
        "     dataset = pd.read_csv(file_dat)\n",
        "\n",
        "len_dataset = math.floor(len(dataset)/1)\n",
        "\n",
        "y = dataset.iloc[:,1:2].values\n",
        "\n",
        "print (\"Done.\")"
      ]
    },
    {
      "cell_type": "markdown",
      "metadata": {
        "id": "Rec7Pbg6UlOY"
      },
      "source": [
        "---\n",
        "#### **Download nltk Libraries**\n",
        "---"
      ]
    },
    {
      "cell_type": "code",
      "execution_count": null,
      "metadata": {
        "colab": {
          "base_uri": "https://localhost:8080/"
        },
        "id": "Kx3bGeqMbseY",
        "outputId": "bdbbe30f-871f-4afa-92ec-d26964bc52e1"
      },
      "outputs": [
        {
          "name": "stdout",
          "output_type": "stream",
          "text": [
            "\n",
            "---------------------------------------------------------------------------------------\n",
            "\n",
            "Done.\n"
          ]
        },
        {
          "name": "stderr",
          "output_type": "stream",
          "text": [
            "[nltk_data] Downloading package punkt to /root/nltk_data...\n",
            "[nltk_data]   Package punkt is already up-to-date!\n",
            "[nltk_data] Downloading package stopwords to /root/nltk_data...\n",
            "[nltk_data]   Package stopwords is already up-to-date!\n",
            "[nltk_data] Downloading package maxent_treebank_pos_tagger to\n",
            "[nltk_data]     /root/nltk_data...\n",
            "[nltk_data]   Package maxent_treebank_pos_tagger is already up-to-\n",
            "[nltk_data]       date!\n",
            "[nltk_data] Downloading package averaged_perceptron_tagger to\n",
            "[nltk_data]     /root/nltk_data...\n",
            "[nltk_data]   Package averaged_perceptron_tagger is already up-to-\n",
            "[nltk_data]       date!\n"
          ]
        }
      ],
      "source": [
        "import nltk\n",
        "\n",
        "nltk.download('punkt')\n",
        "nltk.download('stopwords')\n",
        "nltk.download('maxent_treebank_pos_tagger')\n",
        "nltk.download('averaged_perceptron_tagger')\n",
        "\n",
        "print(\"\\n---------------------------------------------------------------------------------------\\n\")\n",
        "\n",
        "import re\n",
        "from nltk.corpus import stopwords\n",
        "from nltk.stem.porter import PorterStemmer\n",
        "\n",
        "print (\"Done.\")"
      ]
    },
    {
      "cell_type": "markdown",
      "metadata": {
        "id": "dhCnMF9vUtWY"
      },
      "source": [
        "---\n",
        "#### **Tokenization and Stemming**\n",
        "---\n"
      ]
    },
    {
      "cell_type": "code",
      "execution_count": null,
      "metadata": {
        "colab": {
          "base_uri": "https://localhost:8080/"
        },
        "id": "Snpav0d2bsiY",
        "outputId": "0fc8d366-1b79-4d84-d3e3-72ae4f06e752"
      },
      "outputs": [
        {
          "name": "stdout",
          "output_type": "stream",
          "text": [
            "\n",
            "Performing Tokenization and Stemming.\n",
            "100.0% Completed."
          ]
        }
      ],
      "source": [
        "print (\"\\nPerforming Tokenization and Stemming.\")\n",
        "load_from_disk = False\n",
        "corpus=[]\n",
        "num = 0\n",
        "\n",
        "for i in range(0, math.floor(len_dataset)) :\n",
        "    if not debug :\n",
        "        printProgressBar(iteration = num, total = len_dataset, prefix = 'Progress:', suffix = 'Complete', length = 50)\n",
        "        num = num + 1\n",
        "\n",
        "    if os.path.exists(os.path.join(\"models\", '/content/drive/MyDrive/Fake-Reviews-Detection-main/models/corpus.sav')) and force_retrain == None :\n",
        "        load_from_disk = True\n",
        "        continue\n",
        "\n",
        "\n",
        "    review = re.sub('[^a-zA-Z]',' ',dataset['REVIEW_TEXT'][i])\n",
        "    review = review.lower()\n",
        "    review = review.split()\n",
        "    #print (review)\n",
        "    review = [word for word in review if not word in set(stopwords.words('english'))]\n",
        "    ps = PorterStemmer()\n",
        "    review = [ps.stem(word) for word in review if not word in set(stopwords.words('english'))]\n",
        "    review = ' '.join(review)\n",
        "    corpus.append(review)\n",
        "\n",
        "filename = 'corpus.sav'\n",
        "if load_from_disk == False :\n",
        "    pickle.dump(corpus, open(os.path.join(\"models\", filename), 'wb'))\n",
        "\n",
        "if load_from_disk :\n",
        "    corpus = pickle.load(open(os.path.join(\"models\", filename), 'rb'))"
      ]
    },
    {
      "cell_type": "markdown",
      "metadata": {
        "id": "04Ip3fLUUwYO"
      },
      "source": [
        "---\n",
        "#### **Count Vectorization**\n",
        "---\n"
      ]
    },
    {
      "cell_type": "code",
      "execution_count": null,
      "metadata": {
        "colab": {
          "base_uri": "https://localhost:8080/"
        },
        "id": "RnbULNyBbskR",
        "outputId": "54e530e1-1470-4b5b-f953-3a82a598fc5f"
      },
      "outputs": [
        {
          "name": "stdout",
          "output_type": "stream",
          "text": [
            "Done.\n"
          ]
        }
      ],
      "source": [
        "from sklearn.feature_extraction.text import CountVectorizer\n",
        "cv=CountVectorizer(max_features=3000)\n",
        "X=cv.fit_transform(corpus).toarray()\n",
        "y=dataset.iloc[:len_dataset,1]\n",
        "\n",
        "filename = '/content/drive/MyDrive/Fake-Reviews-Detection-main/models/countvectorizer.sav'\n",
        "pickle.dump(cv, open(os.path.join(\"models\", filename), 'wb'))\n",
        "\n",
        "print (\"Done.\")"
      ]
    },
    {
      "cell_type": "markdown",
      "metadata": {
        "id": "RDs1LeCMU58-"
      },
      "source": [
        "---\n",
        "#### **POS Tagging**\n",
        "---\n"
      ]
    },
    {
      "cell_type": "code",
      "execution_count": null,
      "metadata": {
        "colab": {
          "base_uri": "https://localhost:8080/"
        },
        "id": "Lg0j9fcPbsnV",
        "outputId": "b47520ea-8b80-47a7-d1c8-7ade32832349"
      },
      "outputs": [
        {
          "name": "stdout",
          "output_type": "stream",
          "text": [
            "\n",
            "\n",
            "Performing POS Tagging.\n",
            "100.0% Completed."
          ]
        }
      ],
      "source": [
        "def POS_Tagging(sentence):\n",
        "    tagged_list = []\n",
        "    tags = []\n",
        "    count_verbs = 0\n",
        "    count_nouns = 0\n",
        "    text=nltk.word_tokenize(sentence)\n",
        "    tagged_list = (nltk.pos_tag(text))\n",
        "\n",
        "    tags = [x[1] for x in tagged_list]\n",
        "    for each_item in tags:\n",
        "        if each_item in ['VERB','VB','VBN','VBD','VBZ','VBG','VBP']:\n",
        "            count_verbs+=1\n",
        "        elif each_item in ['NOUN','NNP','NN','NUM','NNS','NP','NNPS']:\n",
        "            count_nouns+=1\n",
        "        else:\n",
        "            continue\n",
        "    if count_verbs > count_nouns:\n",
        "        sentence = 'F'\n",
        "    else:\n",
        "        sentence = 'T'\n",
        "\n",
        "    return sentence\n",
        "\n",
        "w, h = 2, len_dataset;\n",
        "pos_tag = [[0 for x in range(w)] for y in range(h)]\n",
        "num = 0\n",
        "\n",
        "load_from_disk = False\n",
        "filename = '/content/drive/MyDrive/Fake-Reviews-Detection-main/models/pos_tag.sav'\n",
        "print (\"\\n\\nPerforming POS Tagging.\")\n",
        "for i in range(0,len_dataset):\n",
        "    if not debug :\n",
        "        printProgressBar(iteration = num, total = len_dataset, prefix = 'Progress:', suffix = 'Complete', length = 50)\n",
        "        num = num + 1\n",
        "\n",
        "    if os.path.exists(os.path.join(\"models\", filename)) and force_retrain == None :\n",
        "        load_from_disk = True\n",
        "        continue\n",
        "\n",
        "    text = dataset['REVIEW_TEXT'][i]\n",
        "    sentence = POS_Tagging(text)\n",
        "\n",
        "    if sentence == 'T':\n",
        "        pos_tag[i][0] = 1\n",
        "        pos_tag[i][1] = 0\n",
        "        #X[i].insert(1)\n",
        "        #X[i].insert(0)\n",
        "    else:\n",
        "        pos_tag[i][0] = 0\n",
        "        pos_tag[i][1] = 1\n",
        "\n",
        "    #print (pos_tag[i])\n",
        "        #X[i].insert(0)\n",
        "        #X[i].insert(1)\n",
        "\n",
        "\n",
        "if load_from_disk == False :\n",
        "    pickle.dump(pos_tag, open(os.path.join(\"models\", filename), 'wb'))\n",
        "\n",
        "if load_from_disk :\n",
        "    pos_tag = pickle.load(open(os.path.join(\"models\", filename), 'rb'))\n",
        "\n",
        "X = np.append(X, pos_tag, axis = 1)"
      ]
    },
    {
      "cell_type": "markdown",
      "metadata": {
        "id": "13uyNaLNVAoK"
      },
      "source": [
        "---\n",
        "####**Label Encoding**\n",
        "---"
      ]
    },
    {
      "cell_type": "code",
      "execution_count": null,
      "metadata": {
        "colab": {
          "base_uri": "https://localhost:8080/"
        },
        "id": "zQtuqRbWbsop",
        "outputId": "6dbb0003-516f-435d-b9f0-ab68eb09a751"
      },
      "outputs": [
        {
          "name": "stdout",
          "output_type": "stream",
          "text": [
            "Done.\n"
          ]
        }
      ],
      "source": [
        "from sklearn.preprocessing import LabelEncoder, OneHotEncoder\n",
        "from sklearn.compose import ColumnTransformer\n",
        "\n",
        "le = LabelEncoder()\n",
        "y = le.fit_transform(y)\n",
        "\n",
        "w, h = 3, len_dataset;\n",
        "new_col = [[0 for x in range(w)] for y in range(h)]\n",
        "num = 0\n",
        "\n",
        "test = dict()\n",
        "test_num = 0\n",
        "\n",
        "for i in range(0, len_dataset):\n",
        "    new_col[i][0] = dataset[\"RATING\"][i]\n",
        "    new_col[i][1] = dataset[\"VERIFIED_PURCHASE\"][i]\n",
        "    new_col[i][2] = dataset[\"PRODUCT_CATEGORY\"][i]\n",
        "\n",
        "    if new_col[i][2] not in test.keys() :\n",
        "        test[new_col[i][2]] = 1\n",
        "        test_num = test_num + 1\n",
        "\n",
        "        #print (new_col[i][2])\n",
        "\n",
        "#print (test_num)\n",
        "\n",
        "new_col = np.array(new_col)\n",
        "\n",
        "labelEncoder = LabelEncoder()\n",
        "new_col[:, 0] = labelEncoder.fit_transform(new_col[:, 0])\n",
        "filename = '/content/drive/MyDrive/Fake-Reviews-Detection-main/models/labelencoder_1.sav'\n",
        "pickle.dump(labelEncoder, open(os.path.join(\"models\", filename), 'wb'))\n",
        "\n",
        "new_col[:, 1] = labelEncoder.fit_transform(new_col[:, 1])\n",
        "filename = '/content/drive/MyDrive/Fake-Reviews-Detection-main/models/labelencoder_2.sav'\n",
        "pickle.dump(labelEncoder, open(os.path.join(\"models\", filename), 'wb'))\n",
        "\n",
        "new_col[:, 2] = labelEncoder.fit_transform(new_col[:, 2])\n",
        "filename = '/content/drive/MyDrive/Fake-Reviews-Detection-main/models/labelencoder_3.sav'\n",
        "pickle.dump(labelEncoder, open(os.path.join(\"models\", filename), 'wb'))\n",
        "\n",
        "print (\"Done.\")"
      ]
    },
    {
      "cell_type": "markdown",
      "metadata": {
        "id": "4dyO92ikVIF-"
      },
      "source": [
        "---\n",
        "####**OneHotEncoder / Column Transformer**\n",
        "---"
      ]
    },
    {
      "cell_type": "code",
      "execution_count": null,
      "metadata": {
        "colab": {
          "base_uri": "https://localhost:8080/"
        },
        "id": "Dk6BzdrBbssX",
        "outputId": "aef05567-66e3-4660-9d82-ed70024da4dc"
      },
      "outputs": [
        {
          "name": "stdout",
          "output_type": "stream",
          "text": [
            "Done.\n"
          ]
        }
      ],
      "source": [
        "ct1 = ColumnTransformer([(\"Rating\", OneHotEncoder(), [0])], remainder = 'passthrough')\n",
        "new_col = ct1.fit_transform(new_col)\n",
        "new_col = new_col.astype(np.float32)\n",
        "filename = '/content/drive/MyDrive/Fake-Reviews-Detection-main/models/columntransformer1.sav'\n",
        "pickle.dump(ct1, open(os.path.join(\"models\", filename), 'wb'))\n",
        "\n",
        "ct2 = ColumnTransformer([(\"Verified Purchase\", OneHotEncoder(), [5])], remainder = 'passthrough')\n",
        "new_col = ct2.fit_transform(new_col)\n",
        "new_col = new_col.astype(np.float32)\n",
        "filename = '/content/drive/MyDrive/Fake-Reviews-Detection-main/models/columntransformer2.sav'\n",
        "pickle.dump(ct2, open(os.path.join(\"models\", filename), 'wb'))\n",
        "\n",
        "ct3 = ColumnTransformer([(\"Category\", OneHotEncoder(), [7])], remainder = 'passthrough')\n",
        "new_col = ct3.fit_transform(new_col)\n",
        "new_col = new_col.toarray()\n",
        "new_col = new_col.astype(np.float32)\n",
        "filename = '/content/drive/MyDrive/Fake-Reviews-Detection-main/models/columntransformer3.sav'\n",
        "pickle.dump(ct3, open(os.path.join(\"models\", filename), 'wb'))\n",
        "\n",
        "new_col = new_col.astype(np.uint8)\n",
        "X = X.astype(np.uint8)\n",
        "X = np.append(X, new_col, axis=1).astype(np.uint8)\n",
        "\n",
        "print (\"Done.\")"
      ]
    },
    {
      "cell_type": "markdown",
      "metadata": {
        "id": "C8HMNgY5VVf7"
      },
      "source": [
        "---\n",
        "####**Split in Train and Test Set**\n",
        "---"
      ]
    },
    {
      "cell_type": "code",
      "execution_count": null,
      "metadata": {
        "colab": {
          "base_uri": "https://localhost:8080/"
        },
        "id": "Q6I_mBhDbsto",
        "outputId": "dd301549-c7be-4370-ae74-9f77017f21f7"
      },
      "outputs": [
        {
          "name": "stdout",
          "output_type": "stream",
          "text": [
            "Done.\n"
          ]
        }
      ],
      "source": [
        "from sklearn.model_selection import train_test_split\n",
        "X_train, X_test, y_train, y_test = train_test_split(X, y, test_size = 0.2, random_state = 1)\n",
        "\n",
        "print (\"Done.\")"
      ]
    },
    {
      "cell_type": "markdown",
      "metadata": {
        "id": "1iY-tvzLVYXO"
      },
      "source": [
        "---\n",
        "####**Training Classifiers**\n",
        "---"
      ]
    },
    {
      "cell_type": "code",
      "execution_count": null,
      "metadata": {
        "colab": {
          "base_uri": "https://localhost:8080/"
        },
        "id": "reiD9Oa_bsxn",
        "outputId": "a2445059-74d9-45bf-ce65-72bd1a67bab2"
      },
      "outputs": [
        {
          "name": "stdout",
          "output_type": "stream",
          "text": [
            "\n",
            "\n",
            "Training Classifier on Bernoulli Naive Bayes.\n",
            "Done.\n",
            "\n",
            "Accuracy of Bernoulli Naive Bayes is : \n",
            "70.16666666666667\n",
            "\n",
            "\n",
            "Training Classifier on Support Vector Machine.\n",
            "Done.\n",
            "\n",
            "Accuracy of Support Vector Machine is : \n",
            "80.11904761904762\n"
          ]
        }
      ],
      "source": [
        "print (\"\\n\\nTraining Classifier on Bernoulli Naive Bayes.\")\n",
        "\n",
        "from sklearn.naive_bayes import BernoulliNB\n",
        "\n",
        "bernoullinb = None\n",
        "if os.path.exists(os.path.join(\"models\", '/content/drive/MyDrive/Fake-Reviews-Detection-main/models/bernoullinb.sav')) and force_retrain == None:\n",
        "    bernoullinb = pickle.load(open(os.path.join(\"models\", '/content/drive/MyDrive/Fake-Reviews-Detection-main/models/bernoullinb.sav'), \"rb\"))\n",
        "\n",
        "else :\n",
        "    bernoullinb = BernoulliNB(alpha = 1.0, binarize = 0.0, fit_prior = True, class_prior = None)\n",
        "    bernoullinb.fit(X_train,y_train)\n",
        "\n",
        "    filename = '/content/drive/MyDrive/Fake-Reviews-Detection-main/models/bernoullinb.sav'\n",
        "    pickle.dump(bernoullinb, open(os.path.join(\"models\", filename), 'wb'))\n",
        "\n",
        "print(\"Done.\")\n",
        "\n",
        "y_pred_bernoulli = bernoullinb.predict(X_test)\n",
        "\n",
        "from sklearn.metrics import accuracy_score\n",
        "print (\"\\nAccuracy of Bernoulli Naive Bayes is : \")\n",
        "print (accuracy_score(y_test, y_pred_bernoulli) * 100)\n",
        "\n",
        "print (\"\\n\\nTraining Classifier on Support Vector Machine.\")\n",
        "from sklearn.svm import SVC # \"Support Vector Classifier\"\n",
        "\n",
        "clf = None\n",
        "\n",
        "if os.path.exists(os.path.join(\"models\", '/content/drive/MyDrive/Fake-Reviews-Detection-main/models/SVM.sav')) and force_retrain == 1:\n",
        "    clf = pickle.load(open(os.path.join(\"models\", '/content/drive/MyDrive/Fake-Reviews-Detection-main/models/SVM.sav'), \"rb\"))\n",
        "    y_pred_svc = pickle.load(open(os.path.join(\"models\", '/content/drive/MyDrive/Fake-Reviews-Detection-main/models/SVM_y_pred.sav'), \"rb\"))\n",
        "\n",
        "else :\n",
        "    clf = SVC(kernel='rbf')\n",
        "    clf.fit(X_train, y_train)\n",
        "\n",
        "    filename = '/content/drive/MyDrive/Fake-Reviews-Detection-main/models/SVM.sav'\n",
        "    pickle.dump(clf, open(os.path.join(\"models\", filename), 'wb'))\n",
        "\n",
        "    y_pred_svc = clf.predict(X_test)\n",
        "    pickle.dump(y_pred_svc, open(os.path.join(\"models\", '/content/drive/MyDrive/Fake-Reviews-Detection-main/models/SVM_y_pred.sav'), 'wb'))\n",
        "\n",
        "print(\"Done.\")\n",
        "\n",
        "shutil.make_archive(\"models\", 'zip', \"models\")\n",
        "\n",
        "from sklearn.metrics import accuracy_score\n",
        "print (\"\\nAccuracy of Support Vector Machine is : \")\n",
        "print(accuracy_score(y_test, y_pred_svc) * 100)"
      ]
    },
    {
      "cell_type": "markdown",
      "metadata": {
        "id": "D-AonzKtVtDG"
      },
      "source": [
        "---\n",
        "### **Graph Comparison**\n",
        "---"
      ]
    },
    {
      "cell_type": "code",
      "execution_count": null,
      "metadata": {
        "colab": {
          "base_uri": "https://localhost:8080/",
          "height": 472
        },
        "id": "_Vs1i9TDbsy9",
        "outputId": "4f32ae9c-0121-46e4-ada6-cfbe2a163801"
      },
      "outputs": [
        {
          "data": {
            "image/png": "[encoded data removed]",
            "text/plain": [
              "<Figure size 640x480 with 1 Axes>"
            ]
          },
          "metadata": {},
          "output_type": "display_data"
        }
      ],
      "source": [
        "import matplotlib.pyplot as plt\n",
        "\n",
        "# Accuracy of Bernoulli Naive Bayes\n",
        "accuracy_nb = accuracy_score(y_test, y_pred_bernoulli) * 100\n",
        "\n",
        "# Accuracy of Support Vector Machine\n",
        "accuracy_svm = accuracy_score(y_test, y_pred_svc) * 100\n",
        "\n",
        "# Create the bar graph\n",
        "classifiers = ['SVM', 'Naive Bayes']\n",
        "accuracy_data = [accuracy_svm, accuracy_nb]\n",
        "\n",
        "# Decrease the width of the bars (adjust the value as needed)\n",
        "bar_width = 0.3\n",
        "\n",
        "plt.bar(classifiers, accuracy_data, color=['lightblue', 'lightcoral'], width=bar_width)\n",
        "\n",
        "plt.title('Accuracy Comparison: SVM vs. Naive Bayes')\n",
        "plt.xlabel('Classifier')\n",
        "plt.ylabel('Accuracy (%)')\n",
        "\n",
        "# Add accuracy values as text annotations on the bars\n",
        "for i, acc in enumerate(accuracy_data):\n",
        "    plt.text(i, acc, f'{acc:.2f}%', ha='center', va='bottom', fontweight='bold')\n",
        "\n",
        "plt.show()"
      ]
    },
    {
      "cell_type": "markdown",
      "metadata": {
        "id": "y2bNCQBLV6E6"
      },
      "source": [
        "---\n",
        "####**Plot Graphs**\n",
        "---"
      ]
    },
    {
      "cell_type": "code",
      "execution_count": null,
      "metadata": {
        "colab": {
          "base_uri": "https://localhost:8080/",
          "height": 430
        },
        "id": "OKKuZncUbs3D",
        "outputId": "a099a807-04e7-40e2-b42a-24c203cb5056"
      },
      "outputs": [
        {
          "data": {
            "image/png": "[encoded data removed]",
            "text/plain": [
              "<Figure size 640x480 with 1 Axes>"
            ]
          },
          "metadata": {},
          "output_type": "display_data"
        }
      ],
      "source": [
        "import os\n",
        "import sys\n",
        "import numpy as np\n",
        "import matplotlib.pyplot as plt\n",
        "\n",
        "sys.path.append('/content/drive/MyDrive/Fake-Reviews-Detection-main/graph.py')\n",
        "from graph import plot2d, plot_comp\n",
        "\n",
        "# Assuming you have already defined X_train, X_test, y_train, y_test, y_pred_bernoulli, and y_pred_svc\n",
        "\n",
        "X = np.concatenate((X_train, X_test))\n",
        "y = np.concatenate((y_train, y_test))\n",
        "\n",
        "# Create the 'result' directory if it doesn't exist\n",
        "os.makedirs(\"result\", exist_ok=True)\n",
        "\n",
        "# Assuming plot2d and plot_comp functions take appropriate arguments.\n",
        "# You may need to adjust the arguments based on your implementation.\n",
        "\n",
        "plot2d(X_test, y_test, y_pred_bernoulli, y_pred_svc)\n"
      ]
    },
    {
      "cell_type": "markdown",
      "metadata": {
        "id": "7JMc00vnWIgP"
      },
      "source": [
        "---\n",
        "### **Tabular form**\n",
        "---"
      ]
    },
    {
      "cell_type": "code",
      "execution_count": null,
      "metadata": {
        "colab": {
          "base_uri": "https://localhost:8080/"
        },
        "id": "Cn5G14XJchS0",
        "outputId": "a801c319-1d8d-403a-ece9-c5110edbfe64"
      },
      "outputs": [
        {
          "name": "stdout",
          "output_type": "stream",
          "text": [
            "╒════╤══════════════════════════════╤════════════╤════════════╤═════════════╤══════════╕\n",
            "│    │ Classifier                   │   Accuracy │   F1 Score │   Precision │   Recall │\n",
            "╞════╪══════════════════════════════╪════════════╪════════════╪═════════════╪══════════╡\n",
            "│  0 │ Bernoulli Naive Bayes        │    70.1667 │    65.1654 │     76.6514 │  56.6731 │\n",
            "├────┼──────────────────────────────┼────────────┼────────────┼─────────────┼──────────┤\n",
            "│  1 │ Support Vector Machine (SVM) │    80.119  │    81.5061 │     75.1941 │  88.9749 │\n",
            "╘════╧══════════════════════════════╧════════════╧════════════╧═════════════╧══════════╛\n"
          ]
        }
      ],
      "source": [
        "import pandas as pd\n",
        "from tabulate import tabulate\n",
        "from sklearn.metrics import accuracy_score, f1_score, precision_score, recall_score\n",
        "\n",
        "\n",
        "# Calculate the performance metrics\n",
        "accuracy_nb = accuracy_score(y_test, y_pred_bernoulli) * 100\n",
        "f1_score_nb = f1_score(y_test, y_pred_bernoulli) * 100\n",
        "precision_nb = precision_score(y_test, y_pred_bernoulli) * 100\n",
        "recall_nb = recall_score(y_test, y_pred_bernoulli) * 100\n",
        "\n",
        "accuracy_svm = accuracy_score(y_test, y_pred_svc) * 100\n",
        "f1_score_svm = f1_score(y_test, y_pred_svc) * 100\n",
        "precision_svm = precision_score(y_test, y_pred_svc) * 100\n",
        "recall_svm = recall_score(y_test, y_pred_svc) * 100\n",
        "\n",
        "# Create DataFrame\n",
        "data = {\n",
        "    'Classifier': ['Bernoulli Naive Bayes', 'Support Vector Machine (SVM)'],\n",
        "    'Accuracy': [accuracy_nb, accuracy_svm],\n",
        "    'F1 Score': [f1_score_nb, f1_score_svm],\n",
        "    'Precision': [precision_nb, precision_svm],\n",
        "    'Recall': [recall_nb, recall_svm]\n",
        "}\n",
        "\n",
        "df = pd.DataFrame(data)\n",
        "\n",
        "# Display the table\n",
        "print(tabulate(df, headers='keys', tablefmt='fancy_grid'))"
      ]
    },
    {
      "cell_type": "markdown",
      "metadata": {
        "id": "uk7VolNgWYxx"
      },
      "source": [
        "---\n",
        "###**Run deploy.py file to Test on your own Inputs**\n",
        "---"
      ]
    },
    {
      "cell_type": "code",
      "execution_count": null,
      "metadata": {
        "colab": {
          "base_uri": "https://localhost:8080/"
        },
        "id": "V5TAXIKVqKZH",
        "outputId": "662c9e08-a8bc-4889-e701-a47ff6a5f5e9"
      },
      "outputs": [
        {
          "name": "stdout",
          "output_type": "stream",
          "text": [
            "[nltk_data] Downloading package punkt to /root/nltk_data...\n",
            "[nltk_data]   Package punkt is already up-to-date!\n",
            "[nltk_data] Downloading package stopwords to /root/nltk_data...\n",
            "[nltk_data]   Package stopwords is already up-to-date!\n",
            "[nltk_data] Downloading package maxent_treebank_pos_tagger to\n",
            "[nltk_data]     /root/nltk_data...\n",
            "[nltk_data]   Package maxent_treebank_pos_tagger is already up-to-\n",
            "[nltk_data]       date!\n",
            "[nltk_data] Downloading package averaged_perceptron_tagger to\n",
            "[nltk_data]     /root/nltk_data...\n",
            "[nltk_data]   Package averaged_perceptron_tagger is already up-to-\n",
            "[nltk_data]       date!\n",
            "\n",
            "Enter your Review : Everybody wants to fall for their promises. But this is a relatively unheard of brand, some even say a non existant company. Look at how amateur their labels and products are. You have to ask yourself if you would trust this kind of amateur stuff? No way! Don't waste your money.\n",
            "\n",
            "---------------------------------------------------------------------------------------\n",
            "\n",
            "\n",
            "Enter your Product Rating (On a scale of 1 to 5) : 1\n",
            "\n",
            "Enter if it's a Verified Purchase (Y or N) : N\n",
            "\n",
            "Enter your Product Category (Apparel, Automotive, Baby, Beauty, Books, Camera, Electronics, Furniture, Grocery, Health & Personal Care, Home, Home Entertainment, Home Improvement, Jewelry, Kitchen, Lawn and Garden, Luggage, Musical Instruments, Office Products, Outdoors, PC, Pet Products, Shoes, Sports, Tools, Toys, Video DVD, Video Games, Watches, Wireless) : Health & Personal Care\n",
            "It is a False Review\n"
          ]
        }
      ],
      "source": [
        "import sys\n",
        "sys.path.append('/content/drive/MyDrive/Fake-Reviews-Detection-main')\n",
        "\n",
        "!python /content/drive/MyDrive/Fake-Reviews-Detection-main/deploy.py\n"
      ]
    }
  ],
  "metadata": {
    "colab": {
      "provenance": [],
      "include_colab_link": true
    },
    "kernelspec": {
      "display_name": "Python 3",
      "name": "python3"
    },
    "language_info": {
      "name": "python"
    }
  },
  "nbformat": 4,
  "nbformat_minor": 0
}